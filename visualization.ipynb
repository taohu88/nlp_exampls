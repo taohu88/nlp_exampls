{
 "cells": [
  {
   "cell_type": "code",
   "execution_count": 4,
   "metadata": {},
   "outputs": [
    {
     "name": "stdout",
     "output_type": "stream",
     "text": [
      "               0           1           2           3           4           5   \\\n",
      "count  974.000000  974.000000  974.000000  974.000000  974.000000  974.000000   \n",
      "mean     0.036973   -0.020638   -0.021701    0.022710    0.165199    0.012417   \n",
      "std      0.177837    0.182354    0.171023    0.177168    0.181469    0.168156   \n",
      "min     -0.562032   -0.594138   -0.479031   -0.522241   -0.498056   -0.486991   \n",
      "25%     -0.077200   -0.149745   -0.137176   -0.107193    0.046922   -0.109060   \n",
      "50%      0.042881   -0.032626   -0.026964    0.026203    0.174510    0.015202   \n",
      "75%      0.157827    0.104265    0.102571    0.138851    0.299346    0.138523   \n",
      "max      0.553712    0.460014    0.511218    0.493971    0.582829    0.524915   \n",
      "\n",
      "               6           7           8           9      ...              90  \\\n",
      "count  974.000000  974.000000  974.000000  974.000000     ...      974.000000   \n",
      "mean     0.011467    0.010157   -0.087305   -0.093529     ...        0.046088   \n",
      "std      0.184939    0.175110    0.177893    0.179649     ...        0.186671   \n",
      "min     -0.561596   -0.524310   -0.577821   -0.663380     ...       -0.471087   \n",
      "25%     -0.117441   -0.102153   -0.216808   -0.222760     ...       -0.085674   \n",
      "50%      0.010041    0.013158   -0.087893   -0.102019     ...        0.055189   \n",
      "75%      0.140091    0.128407    0.035082    0.025750     ...        0.183982   \n",
      "max      0.587398    0.509557    0.458617    0.497757     ...        0.601493   \n",
      "\n",
      "               91          92          93          94          95          96  \\\n",
      "count  974.000000  974.000000  974.000000  974.000000  974.000000  974.000000   \n",
      "mean     0.054617    0.125878    0.100671   -0.106919    0.076503   -0.033755   \n",
      "std      0.189162    0.177315    0.172193    0.179249    0.181391    0.190018   \n",
      "min     -0.488515   -0.453030   -0.439595   -0.578120   -0.549881   -0.551272   \n",
      "25%     -0.083585    0.010256   -0.017172   -0.230697   -0.039542   -0.171833   \n",
      "50%      0.058942    0.125337    0.104931   -0.114134    0.080422   -0.032127   \n",
      "75%      0.195086    0.255326    0.225417    0.012221    0.205395    0.095264   \n",
      "max      0.534806    0.595315    0.519628    0.442225    0.555755    0.530598   \n",
      "\n",
      "               97          98          99  \n",
      "count  974.000000  974.000000  974.000000  \n",
      "mean     0.018144    0.000942    0.079526  \n",
      "std      0.171930    0.179004    0.179068  \n",
      "min     -0.509443   -0.509382   -0.512200  \n",
      "25%     -0.092662   -0.116663   -0.047330  \n",
      "50%      0.018251   -0.001378    0.077016  \n",
      "75%      0.141566    0.117101    0.208121  \n",
      "max      0.470333    0.561398    0.620965  \n",
      "\n",
      "[8 rows x 100 columns]\n"
     ]
    }
   ],
   "source": [
    "import pandas as pd\n",
    "import json\n",
    "\n",
    "# Reading the json as a dict\n",
    "with open('title_vectors.json') as f:\n",
    "    data = json.load(f)\n",
    "\n",
    "# using the from_dict load function. Note that the 'orient' parameter \n",
    "#is not using the default value (or it will give the same error than you had)\n",
    "# We transpose the resulting df and set index column as its index to get this result\n",
    "df = pd.DataFrame.from_dict(data, orient='index')\n",
    "\n",
    "df.reset_index(inplace=True)\n",
    "df=df.rename(columns = {'index':'title'})\n",
    "df['title'] = df['title'].str.replace(\" \",\"_\")\n",
    "df['title'] = df['title'].str.replace(\"‘\",\"_\")\n",
    "df['title'] = df['title'].str.replace(\"’\",\"_\")\n",
    "\n",
    "print(df.describe())\n",
    "\n",
    "df.iloc[:,1:].to_csv('data.csv', sep='\\t', header=False, index=False)\n",
    "df.iloc[:,0].to_csv('meta.csv', sep='\\t', header=False, index=False)"
   ]
  },
  {
   "cell_type": "code",
   "execution_count": 6,
   "metadata": {},
   "outputs": [
    {
     "data": {
      "image/png": "[encoded data removed]",
      "text/plain": [
       "<matplotlib.figure.Figure at 0x7fa768ae24a8>"
      ]
     },
     "metadata": {},
     "output_type": "display_data"
    },
    {
     "data": {
      "text/plain": [
       "(<matplotlib.figure.Figure at 0x7fa768ae24a8>,\n",
       " <matplotlib.axes._subplots.AxesSubplot at 0x7fa73d546828>,\n",
       " [array([[-11.19279028, -11.85942944],\n",
       "         [  5.71163686, -13.74503443],\n",
       "         [-13.26906992,   5.62448411],\n",
       "         ..., \n",
       "         [ 16.84018774,   2.00538566],\n",
       "         [ -3.05095548, -19.2778319 ],\n",
       "         [-14.11150303, -12.25192399]])],\n",
       " None)"
      ]
     },
     "execution_count": 6,
     "metadata": {},
     "output_type": "execute_result"
    }
   ],
   "source": [
    "import hypertools as hyp\n",
    "import matplotlib.pyplot as plt\n",
    "%matplotlib inline  \n",
    "\n",
    "df1 = df.iloc[:,1:]\n",
    "hyp.plot(df1, '.', model='TSNE', ndims=2)"
   ]
  },
  {
   "cell_type": "code",
   "execution_count": 8,
   "metadata": {},
   "outputs": [],
   "source": [
    "import numpy as np\n",
    "\n",
    "U, sigma, V = np.linalg.svd(df1)"
   ]
  },
  {
   "cell_type": "code",
   "execution_count": 13,
   "metadata": {},
   "outputs": [
    {
     "name": "stdout",
     "output_type": "stream",
     "text": [
      "(100,) sigma = \n",
      "[ 22.36  10.55   9.42   9.     8.88   8.17   7.96   7.87   7.68   7.44\n",
      "   7.37   7.25   7.22   7.05   6.85   6.76   6.71   6.7    6.63   6.53\n",
      "   6.47   6.42   6.41   6.35   6.29   6.19   6.16   6.08   6.02   5.94\n",
      "   5.89   5.85   5.83   5.77   5.75   5.69   5.59   5.54   5.53   5.45\n",
      "   5.43   5.36   5.28   5.27   5.23   5.22   5.18   5.12   5.09   5.04\n",
      "   4.99   4.95   4.91   4.87   4.81   4.79   4.73   4.67   4.63   4.59\n",
      "   4.55   4.52   4.48   4.4    4.37   4.35   4.3    4.28   4.24   4.21\n",
      "   4.19   4.16   4.13   4.09   4.05   4.03   3.99   3.97   3.91   3.87\n",
      "   3.81   3.79   3.76   3.71   3.67   3.64   3.57   3.56   3.52   3.49\n",
      "   3.45   3.39   3.36   3.33   3.25   3.19   3.12   3.05   2.96   2.77]\n",
      "(100, 100) V = \n",
      "[[ 0.06 -0.02 -0.03 ...,  0.03  0.01  0.11]\n",
      " [-0.01 -0.12 -0.   ...,  0.03 -0.05  0.11]\n",
      " [ 0.12 -0.03  0.08 ..., -0.18 -0.07  0.06]\n",
      " ..., \n",
      " [-0.03 -0.09  0.09 ...,  0.01  0.12  0.18]\n",
      " [ 0.02 -0.05 -0.02 ...,  0.08 -0.14  0.03]\n",
      " [-0.06 -0.06  0.   ...,  0.15  0.02  0.08]]\n"
     ]
    }
   ],
   "source": [
    "print(sigma.shape, \"sigma = \")\n",
    "print(np.round(sigma, decimals=2))\n",
    "\n",
    "print(V.shape, \"V = \")\n",
    "print(np.round(V, decimals=2))\n"
   ]
  },
  {
   "cell_type": "code",
   "execution_count": 21,
   "metadata": {},
   "outputs": [
    {
     "name": "stdout",
     "output_type": "stream",
     "text": [
      "[[ 0.00139474  0.05389717  0.06973254 ...,  0.08717074 -0.18670293\n",
      "  -0.00990801]\n",
      " [ 0.1722045  -0.05192467 -0.06161455 ...,  0.09640973  0.01868211\n",
      "  -0.03641544]\n",
      " [-0.14511031  0.18028836 -0.00841117 ...,  0.00524725  0.19636589\n",
      "   0.03692775]\n",
      " ..., \n",
      " [ 0.12786952 -0.11757858  0.15403036 ...,  0.13348736  0.20955719\n",
      "  -0.16126726]\n",
      " [-0.06578267  0.04464871 -0.11615108 ..., -0.26422898 -0.09574017\n",
      "   0.08913486]\n",
      " [-0.18914881  0.04785299  0.04342539 ..., -0.08412558 -0.03053589\n",
      "   0.0845056 ]]\n",
      "[97 28  6 63 48 17 51 91 13  0 31 13 10 18 61 74 52 66 81 64 64 23 77 59 77\n",
      " 12 18 46 29 18 27 52 52 13 13  8 13 80 71 42 61 92 64 27 47 32  1 83 61 81\n",
      " 16 15 92 89 63 18 80 13 64 31 48 24 62 74 53 30 91 15 64 20 90 23 87 34 83\n",
      " 27 13 34  4 31 64 37 91 53 89  8 61 80 93 20 62 80 98 78 55  3 35 61 61  7\n",
      " 71 59 25 43 79  6 10 37 16 35 24 31 23 73 37 61 68 46 30 32 37 48 40 74 66\n",
      " 64 64 52 59 70 27 43 58 60 23 53 22 53 19 93 91 72 44 56 48 36 35 16 49 17\n",
      " 56 38 38 52 44 16 16 63 81 55 12  4 40  5 15 59 57 43 50 16 34 10 75 76 52\n",
      " 58  1 74 74 12 28  1 42 12 98 62 16 83 59 31 15 50 47 12 66 78 16 30  1 20\n",
      " 64 58 28 94 74 34 22 74 59 94 30 19  7 32 61 66 50 17 59 43  3 84  4 18 12\n",
      " 91 78 44 80 40 13  4 61 83 19 40 42 76 12 53 78 15 26  3  6 35 10 93 72 96\n",
      " 27 83 68  4 66  6 64 81 31 25  2 53 28 55 62 89 60 46 57 43 12  8 30 22 64\n",
      " 68 66 16 92 16  9  4 40 44 79 46 22 42 53 53 11 22 41 27 16  8 10 81 90 64\n",
      " 97  2 55  4 34 57 34 44  4 90 77  6 15  4 16 12 81 64 16 13  5 71 80 38 31\n",
      " 38 11 46 64 12 23 18 44 83 53 20 97  1 95 95 61 42 13 16 64 93 42 59  9 75\n",
      " 44 90 66 21 58 46 95 24 30 63 15 15 34 44 64 91 90 57 11  8 20 43 92 89 87\n",
      " 20  6 84 16 50 20 86 60 90  9 20 98 46 46 38 68 92 96 13 16 10 34 23 16 59\n",
      "  1 22 65 49 13 62 92 77 61 80 38 45 43 31 12  7 31 92 88 15 24 60 27 53 42\n",
      " 50 62 50 23 91 62 61 70 28 74 77 31 66 27 12 46 96  1 77 78 50  4 12  6 30\n",
      " 34 92 12 40 11 68 64 10 95 46 50 18 64 75 39 50 64  6 16 29 29 46 45 61 10\n",
      " 38 83 11 21 77 42 59 91 68 57 86 83 16 50 19  6 16 14 98 38 80 32 92  1 77\n",
      " 43 12 53 57 40 17 82 76 50 31 50 18 12 89 34 75 39 47  4 93 23 62 33  6 80\n",
      " 61 87 24  6 38 12 66 30 59 29 23 53 20 12 32 83 74 55 59 24  4 90 24 17 44\n",
      "  7 26  1 16 66 21 33 31 41 24 20  4 61 59 54 80 27 59 38  1 94 61 38 64 68\n",
      " 92 62 20  7 87 74 90 58 27 50 17 13 64 11  2  6 30 27  1 57 25 22 26  6  6\n",
      " 62 23 29  6 71 59 59 43  6 32 49 23 46 74 75 66 10  1  9 38 81  9 43  4 50\n",
      " 30 11 26 31 45 62 30 57 56 63 57 34 61 34 68 42 22 74 62 43 12 70 44 62 23\n",
      " 62 43 75 39  4 15 90 61 89 15 32 33 77 93 49 74 66 21 12 10 80 31 67 25 79\n",
      " 90 91 28 43 60 13 43 74 92 12 34  3 92 44 27 71 74 27 76 19 14 13 50 66 80\n",
      " 94 12 84 17  4 63 62 61 63 50 67 40  4 53 29 20 87  9 94 21 86 84 14 63 98\n",
      "  9 15 45 31 57 90  2 92 64 31 10 27 22  8 63 27 30 40 30 80 18 86 80  2 56\n",
      "  6 68 27 31 27 79 64 11 33 90  6 32 57  0 92 61 84  8 61  6 66 13 92  6 74\n",
      " 64 13 68 63 60 80 78 32 64 30  1 81 60 27 94 24  6 84 56 27 46 92 45 41 59\n",
      " 69 74 96 74 77 20 61 65  1 20 46 30 18 74 13 19 13 11 85 30 20 62 80 56 38\n",
      " 58 66 81 31  6 32 28 42 62 24 93 87 38  8 37 15 66 39 19 10 17 94  6 38 80\n",
      " 30 27 80 13 66 16 10  2 85 44 45 39 15 40 15 10 91 44 74 34 92 55 38 43 92\n",
      " 64 27 66 10 32 19 13  8 50 50 11  6 62 13 19 59 40 20  2  6 27 14 60 85 16\n",
      " 80 94 49 59  1 64 27 29 44 50 34 61 81 56 16 92  6 80 68 16 20  8 98 66 29\n",
      " 50 23  0 43 18 31 14 92 58 98 17 43 16 57 49 43 38 57 21 12 66 22 81 56 27\n",
      " 44 19 17 98 24 30 74 78 22 78 12 67 81 79 65 91  6 22 31 10 10 78 38 27]\n"
     ]
    }
   ],
   "source": [
    "\n",
    "from sklearn.cluster import KMeans\n",
    "\n",
    "\n",
    "kmeans = KMeans(n_clusters=99)\n",
    "kmeans.fit(df1)\n",
    "\n",
    "centroid = kmeans.cluster_centers_\n",
    "labels = kmeans.labels_\n",
    "\n",
    "print(centroid)\n",
    "print(labels)"
   ]
  },
  {
   "cell_type": "code",
   "execution_count": 23,
   "metadata": {},
   "outputs": [
    {
     "name": "stdout",
     "output_type": "stream",
     "text": [
      "122    Investigators_Say_Philippine_Police_Murdered_T...\n",
      "162    Rihanna_Drops_Epic_New_Fenty_Beauty_Ad_s_&_Fan...\n",
      "229    Philippine_lawmakers_concerned_about_big_jump_...\n",
      "235    Special_Effects_MakeUp_with_Seth_Miranda_and_t...\n",
      "282    U.S._Settles_Lawsuit_Over_Trump's_First_Travel...\n",
      "453    Countdown_to_Mater_Dei_vs._Bishop_Gorman:_Our_...\n",
      "504    Mark_Zuckerberg_is_personally_responding_to_Fa...\n",
      "711    Mark_Zuckerberg,_Warren_Buffett,_Tim_Cook_Urge...\n",
      "742    GOP_lawmakers_urge_Trump_to_leave_DACA_alone,_...\n",
      "863    Apple_joins_Bain_in_$18_billion_bid_for_Toshib...\n",
      "891                     Broncos_waive_RB_Juwan_Thompson_\n",
      "Name: title, dtype: object\n"
     ]
    }
   ],
   "source": [
    "idx = labels == 40\n",
    "\n",
    "print(df.iloc[idx,0])"
   ]
  }
 ],
 "metadata": {
  "kernelspec": {
   "display_name": "Python 3",
   "language": "python",
   "name": "python3"
  },
  "language_info": {
   "codemirror_mode": {
    "name": "ipython",
    "version": 3
   },
   "file_extension": ".py",
   "mimetype": "text/x-python",
   "name": "python",
   "nbconvert_exporter": "python",
   "pygments_lexer": "ipython3",
   "version": "3.6.1"
  }
 },
 "nbformat": 4,
 "nbformat_minor": 2
}
